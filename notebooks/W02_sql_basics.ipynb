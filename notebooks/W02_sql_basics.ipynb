{
  "cells": [
    {
      "cell_type": "markdown",
      "metadata": {
        "id": "5GdnQ3J8naEk"
      },
      "source": [
        "# SQL Basics\n",
        "\n",
        "## Introduction\n",
        "\n",
        "This notebook is a short introduction to SQL. It is based on the [DuckDB](https://duckdb.org/) database engine.\n",
        "\n",
        "## Datasets\n",
        "\n",
        "The following datasets are used in this notebook. You don't need to download them, they can be accessed directly from the notebook.\n",
        "\n",
        "- [cities.csv](https://open.gishub.org/data/duckdb/cities.csv)\n",
        "- [countries.csv](https://open.gishub.org/data/duckdb/countries.csv)\n",
        "\n",
        "## References\n",
        "\n",
        "- [W3Schools SQL Tutorial](https://www.w3schools.com/sql)\n",
        "- [DuckDB SQL Introduction](https://duckdb.org/docs/sql/introduction.html)"
      ],
      "id": "5GdnQ3J8naEk"
    },
    {
      "cell_type": "markdown",
      "metadata": {
        "id": "KMP1iICHnaEr"
      },
      "source": [
        "## Installation\n",
        "\n",
        "Uncomment the following cell to install the required packages."
      ],
      "id": "KMP1iICHnaEr"
    },
    {
      "cell_type": "code",
      "execution_count": null,
      "metadata": {
        "id": "94_HRlscnaEs",
        "outputId": "e7b3f225-a7db-4462-bcfc-7002b53678c0"
      },
      "outputs": [
        {
          "name": "stdout",
          "output_type": "stream",
          "text": [
            "Requirement already satisfied: duckdb in /Users/ollieballinger/miniconda3/envs/geo/lib/python3.9/site-packages (0.9.2)\n",
            "Requirement already satisfied: duckdb-engine in /Users/ollieballinger/miniconda3/envs/geo/lib/python3.9/site-packages (0.10.0)\n",
            "Requirement already satisfied: jupysql in /Users/ollieballinger/miniconda3/envs/geo/lib/python3.9/site-packages (0.10.7)\n",
            "Requirement already satisfied: sqlalchemy>=1.3.22 in /Users/ollieballinger/miniconda3/envs/geo/lib/python3.9/site-packages (from duckdb-engine) (2.0.21)\n",
            "Requirement already satisfied: prettytable in /Users/ollieballinger/miniconda3/envs/geo/lib/python3.9/site-packages (from jupysql) (3.9.0)\n",
            "Requirement already satisfied: sqlparse in /Users/ollieballinger/miniconda3/envs/geo/lib/python3.9/site-packages (from jupysql) (0.4.4)\n",
            "Requirement already satisfied: ipython-genutils>=0.1.0 in /Users/ollieballinger/miniconda3/envs/geo/lib/python3.9/site-packages (from jupysql) (0.2.0)\n",
            "Requirement already satisfied: jinja2 in /Users/ollieballinger/miniconda3/envs/geo/lib/python3.9/site-packages (from jupysql) (3.0.3)\n",
            "Requirement already satisfied: sqlglot>=11.3.7 in /Users/ollieballinger/miniconda3/envs/geo/lib/python3.9/site-packages (from jupysql) (20.5.0)\n",
            "Requirement already satisfied: ploomber-core>=0.2.7 in /Users/ollieballinger/miniconda3/envs/geo/lib/python3.9/site-packages (from jupysql) (0.2.19)\n",
            "Requirement already satisfied: jupysql-plugin in /Users/ollieballinger/miniconda3/envs/geo/lib/python3.9/site-packages (from jupysql) (0.3.1)\n",
            "Requirement already satisfied: click in /Users/ollieballinger/miniconda3/envs/geo/lib/python3.9/site-packages (from ploomber-core>=0.2.7->jupysql) (8.1.3)\n",
            "Requirement already satisfied: pyyaml in /Users/ollieballinger/miniconda3/envs/geo/lib/python3.9/site-packages (from ploomber-core>=0.2.7->jupysql) (5.4.1)\n",
            "Requirement already satisfied: posthog in /Users/ollieballinger/miniconda3/envs/geo/lib/python3.9/site-packages (from ploomber-core>=0.2.7->jupysql) (3.1.0)\n",
            "Requirement already satisfied: typing-extensions>=4.2.0 in /Users/ollieballinger/miniconda3/envs/geo/lib/python3.9/site-packages (from sqlalchemy>=1.3.22->duckdb-engine) (4.7.1)\n",
            "Requirement already satisfied: MarkupSafe>=2.0 in /Users/ollieballinger/miniconda3/envs/geo/lib/python3.9/site-packages (from jinja2->jupysql) (2.1.1)\n",
            "Requirement already satisfied: wcwidth in /Users/ollieballinger/miniconda3/envs/geo/lib/python3.9/site-packages (from prettytable->jupysql) (0.2.5)\n",
            "Requirement already satisfied: requests<3.0,>=2.7 in /Users/ollieballinger/miniconda3/envs/geo/lib/python3.9/site-packages (from posthog->ploomber-core>=0.2.7->jupysql) (2.31.0)\n",
            "Requirement already satisfied: six>=1.5 in /Users/ollieballinger/miniconda3/envs/geo/lib/python3.9/site-packages (from posthog->ploomber-core>=0.2.7->jupysql) (1.16.0)\n",
            "Requirement already satisfied: monotonic>=1.5 in /Users/ollieballinger/miniconda3/envs/geo/lib/python3.9/site-packages (from posthog->ploomber-core>=0.2.7->jupysql) (1.6)\n",
            "Requirement already satisfied: backoff>=1.10.0 in /Users/ollieballinger/miniconda3/envs/geo/lib/python3.9/site-packages (from posthog->ploomber-core>=0.2.7->jupysql) (2.2.1)\n",
            "Requirement already satisfied: python-dateutil>2.1 in /Users/ollieballinger/miniconda3/envs/geo/lib/python3.9/site-packages (from posthog->ploomber-core>=0.2.7->jupysql) (2.8.2)\n",
            "Requirement already satisfied: charset-normalizer<4,>=2 in /Users/ollieballinger/miniconda3/envs/geo/lib/python3.9/site-packages (from requests<3.0,>=2.7->posthog->ploomber-core>=0.2.7->jupysql) (3.3.2)\n",
            "Requirement already satisfied: idna<4,>=2.5 in /Users/ollieballinger/miniconda3/envs/geo/lib/python3.9/site-packages (from requests<3.0,>=2.7->posthog->ploomber-core>=0.2.7->jupysql) (3.6)\n",
            "Requirement already satisfied: urllib3<3,>=1.21.1 in /Users/ollieballinger/miniconda3/envs/geo/lib/python3.9/site-packages (from requests<3.0,>=2.7->posthog->ploomber-core>=0.2.7->jupysql) (1.26.15)\n",
            "Requirement already satisfied: certifi>=2017.4.17 in /Users/ollieballinger/miniconda3/envs/geo/lib/python3.9/site-packages (from requests<3.0,>=2.7->posthog->ploomber-core>=0.2.7->jupysql) (2023.11.17)\n",
            "Note: you may need to restart the kernel to use updated packages.\n"
          ]
        }
      ],
      "source": [
        "%pip install duckdb duckdb-engine jupysql"
      ],
      "id": "94_HRlscnaEs"
    },
    {
      "cell_type": "markdown",
      "metadata": {
        "id": "5CTgKYo5naEv"
      },
      "source": [
        "## Library Import and Configuration"
      ],
      "id": "5CTgKYo5naEv"
    },
    {
      "cell_type": "code",
      "execution_count": null,
      "metadata": {
        "id": "5P9UF2DanaEw",
        "outputId": "32155c2f-839e-4f1c-c2f7-f6ef99c800f0"
      },
      "outputs": [
        {
          "name": "stdout",
          "output_type": "stream",
          "text": [
            "\u001b[32mDeploy AI and data apps for free on Ploomber Cloud! Learn more: https://docs.cloud.ploomber.io/en/latest/quickstart/signup.html\u001b[0m\n"
          ]
        }
      ],
      "source": [
        "import duckdb\n",
        "import pandas as pd\n",
        "\n",
        "# Import jupysql Jupyter extension to create SQL cells\n",
        "%load_ext sql"
      ],
      "id": "5P9UF2DanaEw"
    },
    {
      "cell_type": "code",
      "source": [],
      "metadata": {
        "id": "0bC3Y3kIn2sP"
      },
      "id": "0bC3Y3kIn2sP",
      "execution_count": null,
      "outputs": []
    },
    {
      "cell_type": "markdown",
      "metadata": {
        "id": "MpAVhv2DnaEw"
      },
      "source": [
        "Set configurations on jupysql to directly output data to Pandas and to simplify the output that is printed to the notebook."
      ],
      "id": "MpAVhv2DnaEw"
    },
    {
      "cell_type": "code",
      "execution_count": null,
      "metadata": {
        "id": "mSmn8_EtnaEx"
      },
      "outputs": [],
      "source": [
        "%config SqlMagic.autopandas = True\n",
        "%config SqlMagic.feedback = False\n",
        "%config SqlMagic.displaycon = False"
      ],
      "id": "mSmn8_EtnaEx"
    },
    {
      "cell_type": "markdown",
      "metadata": {
        "id": "e8Zw9EyjnaEx"
      },
      "source": [
        "## Connecting to DuckDB\n",
        "\n",
        "Connect jupysql to DuckDB using a SQLAlchemy-style connection string. You may either connect to an in memory DuckDB, or a file backed db."
      ],
      "id": "e8Zw9EyjnaEx"
    },
    {
      "cell_type": "code",
      "execution_count": null,
      "metadata": {
        "id": "wJX_OuY9naEy"
      },
      "outputs": [],
      "source": [
        "%sql duckdb:///:memory:\n",
        "# %sql duckdb:///path/to/file.db"
      ],
      "id": "wJX_OuY9naEy"
    },
    {
      "cell_type": "markdown",
      "metadata": {
        "id": "nQ9YPvJtnaEy"
      },
      "source": [
        " If your SQL query is one line only, you may use the `%sql` magic command. For multi-line SQL query, you may use the `%%sql` magic command."
      ],
      "id": "nQ9YPvJtnaEy"
    },
    {
      "cell_type": "markdown",
      "metadata": {
        "id": "EYPSy-ZNnaEz"
      },
      "source": [
        "## Install extensions"
      ],
      "id": "EYPSy-ZNnaEz"
    },
    {
      "cell_type": "markdown",
      "metadata": {
        "id": "gKJB5Z38naEz"
      },
      "source": [
        "\n",
        "Check available DuckDB extensions."
      ],
      "id": "gKJB5Z38naEz"
    },
    {
      "cell_type": "code",
      "execution_count": null,
      "metadata": {
        "id": "CfGb6NELnaEz",
        "outputId": "999593c1-3905-4bb9-cab9-c1c7621aa0dd"
      },
      "outputs": [
        {
          "data": {
            "text/html": [
              "<div>\n",
              "<style scoped>\n",
              "    .dataframe tbody tr th:only-of-type {\n",
              "        vertical-align: middle;\n",
              "    }\n",
              "\n",
              "    .dataframe tbody tr th {\n",
              "        vertical-align: top;\n",
              "    }\n",
              "\n",
              "    .dataframe thead th {\n",
              "        text-align: right;\n",
              "    }\n",
              "</style>\n",
              "<table border=\"1\" class=\"dataframe\">\n",
              "  <thead>\n",
              "    <tr style=\"text-align: right;\">\n",
              "      <th></th>\n",
              "      <th>extension_name</th>\n",
              "      <th>loaded</th>\n",
              "      <th>installed</th>\n",
              "      <th>install_path</th>\n",
              "      <th>description</th>\n",
              "      <th>aliases</th>\n",
              "    </tr>\n",
              "  </thead>\n",
              "  <tbody>\n",
              "    <tr>\n",
              "      <th>0</th>\n",
              "      <td>arrow</td>\n",
              "      <td>False</td>\n",
              "      <td>False</td>\n",
              "      <td></td>\n",
              "      <td>A zero-copy data integration between Apache Ar...</td>\n",
              "      <td>[]</td>\n",
              "    </tr>\n",
              "    <tr>\n",
              "      <th>1</th>\n",
              "      <td>autocomplete</td>\n",
              "      <td>False</td>\n",
              "      <td>False</td>\n",
              "      <td></td>\n",
              "      <td>Adds support for autocomplete in the shell</td>\n",
              "      <td>[]</td>\n",
              "    </tr>\n",
              "    <tr>\n",
              "      <th>2</th>\n",
              "      <td>aws</td>\n",
              "      <td>False</td>\n",
              "      <td>False</td>\n",
              "      <td></td>\n",
              "      <td>Provides features that depend on the AWS SDK</td>\n",
              "      <td>[]</td>\n",
              "    </tr>\n",
              "    <tr>\n",
              "      <th>3</th>\n",
              "      <td>azure</td>\n",
              "      <td>False</td>\n",
              "      <td>False</td>\n",
              "      <td></td>\n",
              "      <td>Adds a filesystem abstraction for Azure blob s...</td>\n",
              "      <td>[]</td>\n",
              "    </tr>\n",
              "    <tr>\n",
              "      <th>4</th>\n",
              "      <td>excel</td>\n",
              "      <td>False</td>\n",
              "      <td>False</td>\n",
              "      <td></td>\n",
              "      <td>Adds support for Excel-like format strings</td>\n",
              "      <td>[]</td>\n",
              "    </tr>\n",
              "    <tr>\n",
              "      <th>5</th>\n",
              "      <td>fts</td>\n",
              "      <td>False</td>\n",
              "      <td>True</td>\n",
              "      <td>(BUILT-IN)</td>\n",
              "      <td>Adds support for Full-Text Search Indexes</td>\n",
              "      <td>[]</td>\n",
              "    </tr>\n",
              "    <tr>\n",
              "      <th>6</th>\n",
              "      <td>httpfs</td>\n",
              "      <td>False</td>\n",
              "      <td>True</td>\n",
              "      <td>/Users/ollieballinger/.duckdb/extensions/v0.9....</td>\n",
              "      <td>Adds support for reading and writing files ove...</td>\n",
              "      <td>[http, https, s3]</td>\n",
              "    </tr>\n",
              "    <tr>\n",
              "      <th>7</th>\n",
              "      <td>iceberg</td>\n",
              "      <td>False</td>\n",
              "      <td>False</td>\n",
              "      <td></td>\n",
              "      <td>Adds support for Apache Iceberg</td>\n",
              "      <td>[]</td>\n",
              "    </tr>\n",
              "    <tr>\n",
              "      <th>8</th>\n",
              "      <td>icu</td>\n",
              "      <td>True</td>\n",
              "      <td>True</td>\n",
              "      <td>(BUILT-IN)</td>\n",
              "      <td>Adds support for time zones and collations usi...</td>\n",
              "      <td>[]</td>\n",
              "    </tr>\n",
              "    <tr>\n",
              "      <th>9</th>\n",
              "      <td>inet</td>\n",
              "      <td>False</td>\n",
              "      <td>False</td>\n",
              "      <td></td>\n",
              "      <td>Adds support for IP-related data types and fun...</td>\n",
              "      <td>[]</td>\n",
              "    </tr>\n",
              "    <tr>\n",
              "      <th>10</th>\n",
              "      <td>jemalloc</td>\n",
              "      <td>False</td>\n",
              "      <td>False</td>\n",
              "      <td></td>\n",
              "      <td>Overwrites system allocator with JEMalloc</td>\n",
              "      <td>[]</td>\n",
              "    </tr>\n",
              "    <tr>\n",
              "      <th>11</th>\n",
              "      <td>json</td>\n",
              "      <td>True</td>\n",
              "      <td>True</td>\n",
              "      <td>(BUILT-IN)</td>\n",
              "      <td>Adds support for JSON operations</td>\n",
              "      <td>[]</td>\n",
              "    </tr>\n",
              "    <tr>\n",
              "      <th>12</th>\n",
              "      <td>motherduck</td>\n",
              "      <td>False</td>\n",
              "      <td>False</td>\n",
              "      <td></td>\n",
              "      <td>Enables motherduck integration with the system</td>\n",
              "      <td>[md]</td>\n",
              "    </tr>\n",
              "    <tr>\n",
              "      <th>13</th>\n",
              "      <td>mysql_scanner</td>\n",
              "      <td>False</td>\n",
              "      <td>False</td>\n",
              "      <td></td>\n",
              "      <td>Adds support for connecting to a MySQL database</td>\n",
              "      <td>[mysql]</td>\n",
              "    </tr>\n",
              "    <tr>\n",
              "      <th>14</th>\n",
              "      <td>parquet</td>\n",
              "      <td>True</td>\n",
              "      <td>True</td>\n",
              "      <td>(BUILT-IN)</td>\n",
              "      <td>Adds support for reading and writing parquet f...</td>\n",
              "      <td>[]</td>\n",
              "    </tr>\n",
              "    <tr>\n",
              "      <th>15</th>\n",
              "      <td>postgres_scanner</td>\n",
              "      <td>False</td>\n",
              "      <td>False</td>\n",
              "      <td></td>\n",
              "      <td>Adds support for connecting to a Postgres data...</td>\n",
              "      <td>[postgres]</td>\n",
              "    </tr>\n",
              "    <tr>\n",
              "      <th>16</th>\n",
              "      <td>spatial</td>\n",
              "      <td>False</td>\n",
              "      <td>True</td>\n",
              "      <td>/Users/ollieballinger/.duckdb/extensions/v0.9....</td>\n",
              "      <td>Geospatial extension that adds support for wor...</td>\n",
              "      <td>[]</td>\n",
              "    </tr>\n",
              "    <tr>\n",
              "      <th>17</th>\n",
              "      <td>sqlite_scanner</td>\n",
              "      <td>False</td>\n",
              "      <td>False</td>\n",
              "      <td></td>\n",
              "      <td>Adds support for reading and writing SQLite da...</td>\n",
              "      <td>[sqlite, sqlite3]</td>\n",
              "    </tr>\n",
              "    <tr>\n",
              "      <th>18</th>\n",
              "      <td>substrait</td>\n",
              "      <td>False</td>\n",
              "      <td>False</td>\n",
              "      <td></td>\n",
              "      <td>Adds support for the Substrait integration</td>\n",
              "      <td>[]</td>\n",
              "    </tr>\n",
              "    <tr>\n",
              "      <th>19</th>\n",
              "      <td>tpcds</td>\n",
              "      <td>True</td>\n",
              "      <td>True</td>\n",
              "      <td>(BUILT-IN)</td>\n",
              "      <td>Adds TPC-DS data generation and query support</td>\n",
              "      <td>[]</td>\n",
              "    </tr>\n",
              "    <tr>\n",
              "      <th>20</th>\n",
              "      <td>tpch</td>\n",
              "      <td>True</td>\n",
              "      <td>True</td>\n",
              "      <td>(BUILT-IN)</td>\n",
              "      <td>Adds TPC-H data generation and query support</td>\n",
              "      <td>[]</td>\n",
              "    </tr>\n",
              "    <tr>\n",
              "      <th>21</th>\n",
              "      <td>visualizer</td>\n",
              "      <td>False</td>\n",
              "      <td>False</td>\n",
              "      <td></td>\n",
              "      <td>Creates an HTML-based visualization of the que...</td>\n",
              "      <td>[]</td>\n",
              "    </tr>\n",
              "  </tbody>\n",
              "</table>\n",
              "</div>"
            ],
            "text/plain": [
              "      extension_name  loaded  installed  \\\n",
              "0              arrow   False      False   \n",
              "1       autocomplete   False      False   \n",
              "2                aws   False      False   \n",
              "3              azure   False      False   \n",
              "4              excel   False      False   \n",
              "5                fts   False       True   \n",
              "6             httpfs   False       True   \n",
              "7            iceberg   False      False   \n",
              "8                icu    True       True   \n",
              "9               inet   False      False   \n",
              "10          jemalloc   False      False   \n",
              "11              json    True       True   \n",
              "12        motherduck   False      False   \n",
              "13     mysql_scanner   False      False   \n",
              "14           parquet    True       True   \n",
              "15  postgres_scanner   False      False   \n",
              "16           spatial   False       True   \n",
              "17    sqlite_scanner   False      False   \n",
              "18         substrait   False      False   \n",
              "19             tpcds    True       True   \n",
              "20              tpch    True       True   \n",
              "21        visualizer   False      False   \n",
              "\n",
              "                                         install_path  \\\n",
              "0                                                       \n",
              "1                                                       \n",
              "2                                                       \n",
              "3                                                       \n",
              "4                                                       \n",
              "5                                          (BUILT-IN)   \n",
              "6   /Users/ollieballinger/.duckdb/extensions/v0.9....   \n",
              "7                                                       \n",
              "8                                          (BUILT-IN)   \n",
              "9                                                       \n",
              "10                                                      \n",
              "11                                         (BUILT-IN)   \n",
              "12                                                      \n",
              "13                                                      \n",
              "14                                         (BUILT-IN)   \n",
              "15                                                      \n",
              "16  /Users/ollieballinger/.duckdb/extensions/v0.9....   \n",
              "17                                                      \n",
              "18                                                      \n",
              "19                                         (BUILT-IN)   \n",
              "20                                         (BUILT-IN)   \n",
              "21                                                      \n",
              "\n",
              "                                          description            aliases  \n",
              "0   A zero-copy data integration between Apache Ar...                 []  \n",
              "1          Adds support for autocomplete in the shell                 []  \n",
              "2        Provides features that depend on the AWS SDK                 []  \n",
              "3   Adds a filesystem abstraction for Azure blob s...                 []  \n",
              "4          Adds support for Excel-like format strings                 []  \n",
              "5           Adds support for Full-Text Search Indexes                 []  \n",
              "6   Adds support for reading and writing files ove...  [http, https, s3]  \n",
              "7                     Adds support for Apache Iceberg                 []  \n",
              "8   Adds support for time zones and collations usi...                 []  \n",
              "9   Adds support for IP-related data types and fun...                 []  \n",
              "10          Overwrites system allocator with JEMalloc                 []  \n",
              "11                   Adds support for JSON operations                 []  \n",
              "12     Enables motherduck integration with the system               [md]  \n",
              "13    Adds support for connecting to a MySQL database            [mysql]  \n",
              "14  Adds support for reading and writing parquet f...                 []  \n",
              "15  Adds support for connecting to a Postgres data...         [postgres]  \n",
              "16  Geospatial extension that adds support for wor...                 []  \n",
              "17  Adds support for reading and writing SQLite da...  [sqlite, sqlite3]  \n",
              "18         Adds support for the Substrait integration                 []  \n",
              "19      Adds TPC-DS data generation and query support                 []  \n",
              "20       Adds TPC-H data generation and query support                 []  \n",
              "21  Creates an HTML-based visualization of the que...                 []  "
            ]
          },
          "execution_count": 6,
          "metadata": {},
          "output_type": "execute_result"
        }
      ],
      "source": [
        "%%sql\n",
        "\n",
        "SELECT * FROM duckdb_extensions();"
      ],
      "id": "CfGb6NELnaEz"
    },
    {
      "cell_type": "markdown",
      "metadata": {
        "id": "9rbAYCgknaE0"
      },
      "source": [
        "DuckDB's [httpfs extension](https://duckdb.org/docs/extensions/httpfs) allows parquet and csv files to be queried remotely over http. This is useful for querying large datasets without having to download them locally. Let's install the extension and load the extension."
      ],
      "id": "9rbAYCgknaE0"
    },
    {
      "cell_type": "code",
      "execution_count": null,
      "metadata": {
        "id": "X41vO1wbnaE0",
        "outputId": "0e64ad7c-8c60-40e5-af05-ed89f935a5f3"
      },
      "outputs": [
        {
          "data": {
            "text/html": [
              "<div>\n",
              "<style scoped>\n",
              "    .dataframe tbody tr th:only-of-type {\n",
              "        vertical-align: middle;\n",
              "    }\n",
              "\n",
              "    .dataframe tbody tr th {\n",
              "        vertical-align: top;\n",
              "    }\n",
              "\n",
              "    .dataframe thead th {\n",
              "        text-align: right;\n",
              "    }\n",
              "</style>\n",
              "<table border=\"1\" class=\"dataframe\">\n",
              "  <thead>\n",
              "    <tr style=\"text-align: right;\">\n",
              "      <th></th>\n",
              "      <th>Success</th>\n",
              "    </tr>\n",
              "  </thead>\n",
              "  <tbody>\n",
              "  </tbody>\n",
              "</table>\n",
              "</div>"
            ],
            "text/plain": [
              "Empty DataFrame\n",
              "Columns: [Success]\n",
              "Index: []"
            ]
          },
          "execution_count": 7,
          "metadata": {},
          "output_type": "execute_result"
        }
      ],
      "source": [
        "%%sql\n",
        "\n",
        "INSTALL httpfs;\n",
        "LOAD httpfs;"
      ],
      "id": "X41vO1wbnaE0"
    },
    {
      "cell_type": "markdown",
      "metadata": {
        "id": "Nlq0gUaBnaE0"
      },
      "source": [
        "## Read CSV\n",
        "\n",
        "Use the `httpfs` extension to read the `cities.csv` file from the web."
      ],
      "id": "Nlq0gUaBnaE0"
    },
    {
      "cell_type": "code",
      "execution_count": null,
      "metadata": {
        "id": "5lbQg77CnaE0",
        "outputId": "a0e140c6-2789-42fc-8a4d-5a3a9eb97f85"
      },
      "outputs": [
        {
          "data": {
            "text/html": [
              "<div>\n",
              "<style scoped>\n",
              "    .dataframe tbody tr th:only-of-type {\n",
              "        vertical-align: middle;\n",
              "    }\n",
              "\n",
              "    .dataframe tbody tr th {\n",
              "        vertical-align: top;\n",
              "    }\n",
              "\n",
              "    .dataframe thead th {\n",
              "        text-align: right;\n",
              "    }\n",
              "</style>\n",
              "<table border=\"1\" class=\"dataframe\">\n",
              "  <thead>\n",
              "    <tr style=\"text-align: right;\">\n",
              "      <th></th>\n",
              "      <th>id</th>\n",
              "      <th>name</th>\n",
              "      <th>country</th>\n",
              "      <th>latitude</th>\n",
              "      <th>longitude</th>\n",
              "      <th>population</th>\n",
              "    </tr>\n",
              "  </thead>\n",
              "  <tbody>\n",
              "    <tr>\n",
              "      <th>0</th>\n",
              "      <td>1</td>\n",
              "      <td>Bombo</td>\n",
              "      <td>UGA</td>\n",
              "      <td>0.58330</td>\n",
              "      <td>32.53330</td>\n",
              "      <td>75000</td>\n",
              "    </tr>\n",
              "    <tr>\n",
              "      <th>1</th>\n",
              "      <td>2</td>\n",
              "      <td>Fort Portal</td>\n",
              "      <td>UGA</td>\n",
              "      <td>0.67100</td>\n",
              "      <td>30.27500</td>\n",
              "      <td>42670</td>\n",
              "    </tr>\n",
              "    <tr>\n",
              "      <th>2</th>\n",
              "      <td>3</td>\n",
              "      <td>Potenza</td>\n",
              "      <td>ITA</td>\n",
              "      <td>40.64200</td>\n",
              "      <td>15.79900</td>\n",
              "      <td>69060</td>\n",
              "    </tr>\n",
              "    <tr>\n",
              "      <th>3</th>\n",
              "      <td>4</td>\n",
              "      <td>Campobasso</td>\n",
              "      <td>ITA</td>\n",
              "      <td>41.56300</td>\n",
              "      <td>14.65600</td>\n",
              "      <td>50762</td>\n",
              "    </tr>\n",
              "    <tr>\n",
              "      <th>4</th>\n",
              "      <td>5</td>\n",
              "      <td>Aosta</td>\n",
              "      <td>ITA</td>\n",
              "      <td>45.73700</td>\n",
              "      <td>7.31500</td>\n",
              "      <td>34062</td>\n",
              "    </tr>\n",
              "    <tr>\n",
              "      <th>...</th>\n",
              "      <td>...</td>\n",
              "      <td>...</td>\n",
              "      <td>...</td>\n",
              "      <td>...</td>\n",
              "      <td>...</td>\n",
              "      <td>...</td>\n",
              "    </tr>\n",
              "    <tr>\n",
              "      <th>1244</th>\n",
              "      <td>1245</td>\n",
              "      <td>Rio de Janeiro</td>\n",
              "      <td>BRA</td>\n",
              "      <td>-22.92502</td>\n",
              "      <td>-43.22502</td>\n",
              "      <td>11748000</td>\n",
              "    </tr>\n",
              "    <tr>\n",
              "      <th>1245</th>\n",
              "      <td>1246</td>\n",
              "      <td>Sao Paulo</td>\n",
              "      <td>BRA</td>\n",
              "      <td>-23.55868</td>\n",
              "      <td>-46.62502</td>\n",
              "      <td>18845000</td>\n",
              "    </tr>\n",
              "    <tr>\n",
              "      <th>1246</th>\n",
              "      <td>1247</td>\n",
              "      <td>Sydney</td>\n",
              "      <td>AUS</td>\n",
              "      <td>-33.92001</td>\n",
              "      <td>151.18518</td>\n",
              "      <td>4630000</td>\n",
              "    </tr>\n",
              "    <tr>\n",
              "      <th>1247</th>\n",
              "      <td>1248</td>\n",
              "      <td>Singapore</td>\n",
              "      <td>SGP</td>\n",
              "      <td>1.29303</td>\n",
              "      <td>103.85582</td>\n",
              "      <td>5183700</td>\n",
              "    </tr>\n",
              "    <tr>\n",
              "      <th>1248</th>\n",
              "      <td>1249</td>\n",
              "      <td>Hong Kong</td>\n",
              "      <td>CHN</td>\n",
              "      <td>22.30498</td>\n",
              "      <td>114.18501</td>\n",
              "      <td>7206000</td>\n",
              "    </tr>\n",
              "  </tbody>\n",
              "</table>\n",
              "<p>1249 rows × 6 columns</p>\n",
              "</div>"
            ],
            "text/plain": [
              "        id            name country  latitude  longitude  population\n",
              "0        1           Bombo     UGA   0.58330   32.53330       75000\n",
              "1        2     Fort Portal     UGA   0.67100   30.27500       42670\n",
              "2        3         Potenza     ITA  40.64200   15.79900       69060\n",
              "3        4      Campobasso     ITA  41.56300   14.65600       50762\n",
              "4        5           Aosta     ITA  45.73700    7.31500       34062\n",
              "...    ...             ...     ...       ...        ...         ...\n",
              "1244  1245  Rio de Janeiro     BRA -22.92502  -43.22502    11748000\n",
              "1245  1246       Sao Paulo     BRA -23.55868  -46.62502    18845000\n",
              "1246  1247          Sydney     AUS -33.92001  151.18518     4630000\n",
              "1247  1248       Singapore     SGP   1.29303  103.85582     5183700\n",
              "1248  1249       Hong Kong     CHN  22.30498  114.18501     7206000\n",
              "\n",
              "[1249 rows x 6 columns]"
            ]
          },
          "execution_count": 8,
          "metadata": {},
          "output_type": "execute_result"
        }
      ],
      "source": [
        "%%sql\n",
        "\n",
        "SELECT * FROM 'https://open.gishub.org/data/duckdb/cities.csv';"
      ],
      "id": "5lbQg77CnaE0"
    },
    {
      "cell_type": "code",
      "execution_count": null,
      "metadata": {
        "id": "Zqjk0OoRnaE1"
      },
      "outputs": [],
      "source": [
        "%%sql\n",
        "\n",
        "SELECT * FROM 'https://open.gishub.org/data/duckdb/countries.csv';"
      ],
      "id": "Zqjk0OoRnaE1"
    },
    {
      "cell_type": "markdown",
      "metadata": {
        "id": "h0_eUMKKnaE1"
      },
      "source": [
        "## Create Table\n",
        "\n",
        "Create a table named `cities` from the `cities.csv` file."
      ],
      "id": "h0_eUMKKnaE1"
    },
    {
      "cell_type": "code",
      "execution_count": null,
      "metadata": {
        "id": "PqVPkd2InaE1"
      },
      "outputs": [],
      "source": [
        "%%sql\n",
        "\n",
        "CREATE TABLE cities AS SELECT * FROM 'https://open.gishub.org/data/duckdb/cities.csv';"
      ],
      "id": "PqVPkd2InaE1"
    },
    {
      "cell_type": "markdown",
      "metadata": {
        "id": "CW08NP05naE1"
      },
      "source": [
        "Create a table named `countries` from the `countries.csv` file."
      ],
      "id": "CW08NP05naE1"
    },
    {
      "cell_type": "code",
      "execution_count": null,
      "metadata": {
        "id": "RKOloD4HnaE2"
      },
      "outputs": [],
      "source": [
        "%%sql\n",
        "\n",
        "CREATE TABLE countries AS SELECT * FROM 'https://open.gishub.org/data/duckdb/countries.csv';"
      ],
      "id": "RKOloD4HnaE2"
    },
    {
      "cell_type": "markdown",
      "metadata": {
        "id": "OZV3awfNnaE2"
      },
      "source": [
        "Display the table content in the database."
      ],
      "id": "OZV3awfNnaE2"
    },
    {
      "cell_type": "code",
      "execution_count": null,
      "metadata": {
        "id": "sqSXYf6TnaE2"
      },
      "outputs": [],
      "source": [
        "%%sql\n",
        "\n",
        "FROM cities;"
      ],
      "id": "sqSXYf6TnaE2"
    },
    {
      "cell_type": "code",
      "execution_count": null,
      "metadata": {
        "id": "_AHkHGUdnaE2"
      },
      "outputs": [],
      "source": [
        "%%sql\n",
        "\n",
        "FROM countries;"
      ],
      "id": "_AHkHGUdnaE2"
    },
    {
      "cell_type": "markdown",
      "metadata": {
        "id": "cztwLidUnaE2"
      },
      "source": [
        "## The SQL SELECT statement\n",
        "\n",
        "The `SELECT` statement is used to select data from a database. Use either `SELECT *` to select all columns, or `SELECT column1, column2, ...` to select specific columns.\n",
        "\n",
        "`SELECT * FROM cities` is the same as `FROM cities`."
      ],
      "id": "cztwLidUnaE2"
    },
    {
      "cell_type": "code",
      "execution_count": null,
      "metadata": {
        "scrolled": true,
        "tags": [
          "hide-output"
        ],
        "id": "AbquYrt7naE3"
      },
      "outputs": [],
      "source": [
        "%%sql\n",
        "\n",
        "SELECT * FROM cities;"
      ],
      "id": "AbquYrt7naE3"
    },
    {
      "cell_type": "markdown",
      "metadata": {
        "id": "DDJORvycnaE3"
      },
      "source": [
        "To limit the number of rows returned, use the `LIMIT` keyword. For example, `SELECT * FROM cities LIMIT 10` will return only the first 10 rows."
      ],
      "id": "DDJORvycnaE3"
    },
    {
      "cell_type": "code",
      "execution_count": null,
      "metadata": {
        "scrolled": false,
        "id": "J1jn1nGvnaE3"
      },
      "outputs": [],
      "source": [
        "%%sql\n",
        "\n",
        "SELECT * FROM cities LIMIT 10;"
      ],
      "id": "J1jn1nGvnaE3"
    },
    {
      "cell_type": "markdown",
      "metadata": {
        "id": "SGm8bjXPnaE3"
      },
      "source": [
        "Select a subset of columns from the `cities` table and display the first 10 rows."
      ],
      "id": "SGm8bjXPnaE3"
    },
    {
      "cell_type": "code",
      "execution_count": null,
      "metadata": {
        "scrolled": false,
        "id": "Nimi2qDBnaE3"
      },
      "outputs": [],
      "source": [
        "%%sql\n",
        "\n",
        "SELECT name, country FROM cities LIMIT 10;"
      ],
      "id": "Nimi2qDBnaE3"
    },
    {
      "cell_type": "markdown",
      "metadata": {
        "id": "ERll3_g3naE3"
      },
      "source": [
        "To select distinct values, use the `DISTINCT` keyword. For example, `SELECT DISTINCT country FROM cities` will return only the distinct values of the `country` column."
      ],
      "id": "ERll3_g3naE3"
    },
    {
      "cell_type": "code",
      "execution_count": null,
      "metadata": {
        "id": "Id8DBzSInaE4"
      },
      "outputs": [],
      "source": [
        "%%sql\n",
        "\n",
        "SELECT DISTINCT country FROM cities LIMIT 10;"
      ],
      "id": "Id8DBzSInaE4"
    },
    {
      "cell_type": "markdown",
      "metadata": {
        "id": "h1d-TR14naE4"
      },
      "source": [
        "To count the number of rows returned, use the `COUNT(*)` function. For example, `SELECT COUNT(*) FROM cities` will return the number of rows in the `cities` table."
      ],
      "id": "h1d-TR14naE4"
    },
    {
      "cell_type": "code",
      "execution_count": null,
      "metadata": {
        "id": "jqyZpbg1naE4"
      },
      "outputs": [],
      "source": [
        "%%sql\n",
        "\n",
        "SELECT COUNT(*) FROM cities;"
      ],
      "id": "jqyZpbg1naE4"
    },
    {
      "cell_type": "markdown",
      "metadata": {
        "id": "X2DRCkqCnaE4"
      },
      "source": [
        "To count the number of distinct values, use the `COUNT(DISTINCT column)` function. For example, `SELECT COUNT(DISTINCT country) FROM cities` will return the number of distinct values in the `country` column."
      ],
      "id": "X2DRCkqCnaE4"
    },
    {
      "cell_type": "code",
      "execution_count": null,
      "metadata": {
        "id": "4kdAwE2cnaE4"
      },
      "outputs": [],
      "source": [
        "%%sql\n",
        "\n",
        "SELECT COUNT(DISTINCT country) FROM cities;"
      ],
      "id": "4kdAwE2cnaE4"
    },
    {
      "cell_type": "markdown",
      "metadata": {
        "id": "iC1YMozBnaE5"
      },
      "source": [
        "To calculate the maximum value, use the `MAX(column)` function. For example, `SELECT MAX(population) FROM cities` will return the maximum value in the `population` column."
      ],
      "id": "iC1YMozBnaE5"
    },
    {
      "cell_type": "code",
      "execution_count": null,
      "metadata": {
        "id": "U20XoPvunaE5"
      },
      "outputs": [],
      "source": [
        "%%sql\n",
        "\n",
        "SELECT MAX(population) FROM cities;"
      ],
      "id": "U20XoPvunaE5"
    },
    {
      "cell_type": "markdown",
      "metadata": {
        "id": "z3LzYPEJnaFE"
      },
      "source": [
        "To calculate the total value, use the `SUM(column)` function. For example, `SELECT SUM(population) FROM cities` will return the total value in the `population` column."
      ],
      "id": "z3LzYPEJnaFE"
    },
    {
      "cell_type": "code",
      "execution_count": null,
      "metadata": {
        "id": "0IiqOjIFnaFE"
      },
      "outputs": [],
      "source": [
        "%%sql\n",
        "\n",
        "SELECT SUM(population) FROM cities;"
      ],
      "id": "0IiqOjIFnaFE"
    },
    {
      "cell_type": "markdown",
      "metadata": {
        "id": "IqGrk_tHnaFE"
      },
      "source": [
        "To calculate the average value, use the `AVG(column)` function. For example, `SELECT AVG(population) FROM cities` will return the average value in the `population` column."
      ],
      "id": "IqGrk_tHnaFE"
    },
    {
      "cell_type": "code",
      "execution_count": null,
      "metadata": {
        "id": "yZbBl9PznaFE"
      },
      "outputs": [],
      "source": [
        "%%sql\n",
        "\n",
        "SELECT AVG(population) FROM cities;"
      ],
      "id": "yZbBl9PznaFE"
    },
    {
      "cell_type": "markdown",
      "metadata": {
        "id": "ZCY6-AP_naFE"
      },
      "source": [
        "To order the results, use the `ORDER BY column` clause. For example, `SELECT * FROM cities ORDER BY country` will return the rows ordered by the `country` column alphabetically."
      ],
      "id": "ZCY6-AP_naFE"
    },
    {
      "cell_type": "code",
      "execution_count": null,
      "metadata": {
        "id": "4DIOuZmtnaFF"
      },
      "outputs": [],
      "source": [
        "%%sql\n",
        "\n",
        "SELECT * FROM cities ORDER BY country LIMIT 10;"
      ],
      "id": "4DIOuZmtnaFF"
    },
    {
      "cell_type": "markdown",
      "metadata": {
        "id": "vcqqEjjqnaFF"
      },
      "source": [
        "To order the results in descending order, use the `ORDER BY column DESC` clause. For example, `SELECT * FROM cities ORDER BY country ASC, population DESC` will return the rows ordered by the `country` column alphabetical order and then by the `population` column in descending order."
      ],
      "id": "vcqqEjjqnaFF"
    },
    {
      "cell_type": "code",
      "execution_count": null,
      "metadata": {
        "id": "dwUVHLy9naFF"
      },
      "outputs": [],
      "source": [
        "%%sql\n",
        "\n",
        "SELECT * FROM cities ORDER BY country ASC, population DESC LIMIT 10;"
      ],
      "id": "dwUVHLy9naFF"
    },
    {
      "cell_type": "markdown",
      "metadata": {
        "id": "UIz4-J5fnaFF"
      },
      "source": [
        "## The WHERE Clause\n",
        "\n",
        "The `WHERE` clause is used to filter records. The `WHERE` clause is used to extract only those records that fulfill a specified condition."
      ],
      "id": "UIz4-J5fnaFF"
    },
    {
      "cell_type": "code",
      "execution_count": null,
      "metadata": {
        "scrolled": true,
        "tags": [
          "hide-output"
        ],
        "id": "8KH951yJnaFF"
      },
      "outputs": [],
      "source": [
        "%%sql\n",
        "\n",
        "SELECT * FROM cities WHERE country='USA'"
      ],
      "id": "8KH951yJnaFF"
    },
    {
      "cell_type": "markdown",
      "metadata": {
        "id": "UCS5-v5lnaFF"
      },
      "source": [
        "You can use boolean operators such as `AND`, `OR`, `NOT` to filter records. For example, `SELECT * FROM cities WHERE country='USA' OR country='CAN'` will return the rows where the `country` column is either `USA` or `CAN`."
      ],
      "id": "UCS5-v5lnaFF"
    },
    {
      "cell_type": "code",
      "execution_count": null,
      "metadata": {
        "scrolled": false,
        "tags": [
          "hide-output"
        ],
        "id": "iS7V2eawnaFF"
      },
      "outputs": [],
      "source": [
        "%%sql\n",
        "\n",
        "SELECT * FROM cities WHERE country='USA' OR country='CAN';"
      ],
      "id": "iS7V2eawnaFF"
    },
    {
      "cell_type": "markdown",
      "metadata": {
        "id": "2VnIOZUfnaFG"
      },
      "source": [
        "To select US cities with a population greater than 1 million, use the following query: `SELECT * FROM cities WHERE country='USA' AND population > 1000000`."
      ],
      "id": "2VnIOZUfnaFG"
    },
    {
      "cell_type": "code",
      "execution_count": null,
      "metadata": {
        "tags": [
          "hide-output"
        ],
        "id": "IxO-_jIwnaFG"
      },
      "outputs": [],
      "source": [
        "%%sql\n",
        "\n",
        "SELECT * FROM cities WHERE country='USA' AND population>1000000;"
      ],
      "id": "IxO-_jIwnaFG"
    },
    {
      "cell_type": "markdown",
      "metadata": {
        "id": "eOWxpr_ynaFG"
      },
      "source": [
        "To select cities with the country name starting with the letter `U`, use the following query: `SELECT * FROM cities WHERE country LIKE 'U%'`."
      ],
      "id": "eOWxpr_ynaFG"
    },
    {
      "cell_type": "code",
      "execution_count": null,
      "metadata": {
        "scrolled": false,
        "tags": [
          "hide-output"
        ],
        "id": "zwSS73CinaFG"
      },
      "outputs": [],
      "source": [
        "%%sql\n",
        "\n",
        "SELECT * FROM cities WHERE country LIKE 'U%';"
      ],
      "id": "zwSS73CinaFG"
    },
    {
      "cell_type": "markdown",
      "metadata": {
        "id": "amo8v6HcnaFG"
      },
      "source": [
        "To select cities with the country name ending with the letter `A`, use the following query: `SELECT * FROM cities WHERE country LIKE '%A'`."
      ],
      "id": "amo8v6HcnaFG"
    },
    {
      "cell_type": "code",
      "execution_count": null,
      "metadata": {
        "tags": [
          "hide-output"
        ],
        "id": "Cg3xYf6anaFG"
      },
      "outputs": [],
      "source": [
        "%%sql\n",
        "\n",
        "SELECT * FROM cities WHERE country LIKE '%A';"
      ],
      "id": "Cg3xYf6anaFG"
    },
    {
      "cell_type": "markdown",
      "metadata": {
        "id": "VACxPMS9naFH"
      },
      "source": [
        "To select cities with the country name containing the letter `S` in the middle, use the following query: `SELECT * FROM cities WHERE country LIKE '_S_'`."
      ],
      "id": "VACxPMS9naFH"
    },
    {
      "cell_type": "code",
      "execution_count": null,
      "metadata": {
        "tags": [
          "hide-output"
        ],
        "id": "WAn5DoJanaFH"
      },
      "outputs": [],
      "source": [
        "%%sql\n",
        "\n",
        "SELECT * FROM cities WHERE country LIKE '_S_';"
      ],
      "id": "WAn5DoJanaFH"
    },
    {
      "cell_type": "markdown",
      "metadata": {
        "id": "gI-AWCwKnaFH"
      },
      "source": [
        "To select cities from a list of countries, use the `IN` operator. For example, `SELECT * FROM cities WHERE country IN ('USA', 'CAN')` will return the rows where the `country` column is either `USA` or `CAN`."
      ],
      "id": "gI-AWCwKnaFH"
    },
    {
      "cell_type": "code",
      "execution_count": null,
      "metadata": {
        "tags": [
          "hide-output"
        ],
        "id": "sH8RA02GnaFH"
      },
      "outputs": [],
      "source": [
        "%%sql\n",
        "\n",
        "SELECT * FROM cities WHERE country IN ('USA', 'CAN');"
      ],
      "id": "sH8RA02GnaFH"
    },
    {
      "cell_type": "markdown",
      "metadata": {
        "id": "eg0oX0RTnaFH"
      },
      "source": [
        "To select cities with a population between 1 and 10 million, use the following query: `SELECT * FROM cities WHERE population BETWEEN 1000000 AND 10000000`."
      ],
      "id": "eg0oX0RTnaFH"
    },
    {
      "cell_type": "code",
      "execution_count": null,
      "metadata": {
        "scrolled": false,
        "tags": [
          "hide-output"
        ],
        "id": "hj3eF71_naFH"
      },
      "outputs": [],
      "source": [
        "%%sql\n",
        "\n",
        "SELECT * FROM cities WHERE population BETWEEN 1000000 AND 10000000;"
      ],
      "id": "hj3eF71_naFH"
    },
    {
      "cell_type": "markdown",
      "metadata": {
        "id": "Od4apbLfnaFI"
      },
      "source": [
        "## SQL Joins\n",
        "\n",
        "Reference: https://www.w3schools.com/sql/sql_join.asp\n",
        "\n",
        "Here are the different types of the JOINs in SQL:\n",
        "\n",
        "- `(INNER) JOIN`: Returns records that have matching values in both tables\n",
        "- `LEFT (OUTER) JOIN`: Returns all records from the left table, and the matched records from the right table\n",
        "- `RIGHT (OUTER) JOIN`: Returns all records from the right table, and the matched records from the left table\n",
        "- `FULL (OUTER) JOIN`: Returns all records when there is a match in either left or right table\n",
        "\n",
        "![](https://i.imgur.com/mITYzuS.png)\n",
        "\n",
        "We have two sample tables: `cities` and `countries`.\n",
        "\n",
        "There are 1,249 cities in the `cities` table and 243 countries in the `countries` table."
      ],
      "id": "Od4apbLfnaFI"
    },
    {
      "cell_type": "code",
      "execution_count": null,
      "metadata": {
        "id": "Ky-tk_K0naFI"
      },
      "outputs": [],
      "source": [
        "%%sql\n",
        "\n",
        "SELECT COUNT(*) FROM cities;"
      ],
      "id": "Ky-tk_K0naFI"
    },
    {
      "cell_type": "code",
      "execution_count": null,
      "metadata": {
        "id": "OT958HDYnaFI"
      },
      "outputs": [],
      "source": [
        "%%sql\n",
        "\n",
        "SELECT * FROM cities LIMIT 10;"
      ],
      "id": "OT958HDYnaFI"
    },
    {
      "cell_type": "code",
      "execution_count": null,
      "metadata": {
        "id": "KSOOscVQnaFI"
      },
      "outputs": [],
      "source": [
        "%%sql\n",
        "\n",
        "SELECT COUNT(*) FROM countries;"
      ],
      "id": "KSOOscVQnaFI"
    },
    {
      "cell_type": "code",
      "execution_count": null,
      "metadata": {
        "id": "ONqCBcednaFI"
      },
      "outputs": [],
      "source": [
        "%%sql\n",
        "\n",
        "SELECT * FROM countries LIMIT 10;"
      ],
      "id": "ONqCBcednaFI"
    },
    {
      "cell_type": "markdown",
      "metadata": {
        "id": "OCyrs140naFI"
      },
      "source": [
        "### SQL Inner Join\n",
        "\n",
        "The `INNER JOIN` keyword selects records that have matching values in both tables. In the example, we join the `cities` table with the `countries` table using the `country` column in the `cities` table and the `Alpha3_code` column in the `countries` table. The result contains 1,244 rows, indicating that there are 5 cities that do not have a matching country."
      ],
      "id": "OCyrs140naFI"
    },
    {
      "cell_type": "code",
      "execution_count": null,
      "metadata": {
        "tags": [
          "hide-output"
        ],
        "id": "qwQQS2dTnaFJ"
      },
      "outputs": [],
      "source": [
        "%%sql\n",
        "\n",
        "SELECT * FROM cities INNER JOIN countries ON cities.country = countries.\"Alpha3_code\";"
      ],
      "id": "qwQQS2dTnaFJ"
    },
    {
      "cell_type": "markdown",
      "metadata": {
        "id": "UoPMhZILnaFJ"
      },
      "source": [
        "Only select the `city` and `country` columns from the `cities` table and the `Country` column from the `countries` table."
      ],
      "id": "UoPMhZILnaFJ"
    },
    {
      "cell_type": "code",
      "execution_count": null,
      "metadata": {
        "tags": [
          "hide-output"
        ],
        "id": "RhH20hs4naFJ"
      },
      "outputs": [],
      "source": [
        "%%sql\n",
        "\n",
        "SELECT name, cities.\"country\", countries.\"Country\" FROM cities INNER JOIN countries ON cities.country = countries.\"Alpha3_code\";"
      ],
      "id": "RhH20hs4naFJ"
    },
    {
      "cell_type": "markdown",
      "metadata": {
        "id": "v57iCw7vnaFJ"
      },
      "source": [
        "### SQL Left Join\n",
        "\n",
        "The `LEFT JOIN` keyword returns all records from the left table (`cities`), and the matched records from the right table (`countries`). The result contains 1,249 rows, the same number of rows as the `cities` table."
      ],
      "id": "v57iCw7vnaFJ"
    },
    {
      "cell_type": "code",
      "execution_count": null,
      "metadata": {
        "tags": [
          "hide-output"
        ],
        "id": "tgvzvKljnaFJ"
      },
      "outputs": [],
      "source": [
        "%%sql\n",
        "\n",
        "SELECT * FROM cities LEFT JOIN countries ON cities.country = countries.\"Alpha3_code\";"
      ],
      "id": "tgvzvKljnaFJ"
    },
    {
      "cell_type": "markdown",
      "metadata": {
        "id": "dRGuzSFinaFJ"
      },
      "source": [
        "### SQL Right Join\n",
        "\n",
        "The `RIGHT JOIN` keyword returns all records from the right table (`countries`), and the matched records from the left table (`cities`). The result contains 1,291 rows."
      ],
      "id": "dRGuzSFinaFJ"
    },
    {
      "cell_type": "code",
      "execution_count": null,
      "metadata": {
        "tags": [
          "hide-output"
        ],
        "id": "irrDeJW6naFK"
      },
      "outputs": [],
      "source": [
        "%%sql\n",
        "\n",
        "SELECT * FROM cities RIGHT JOIN countries ON cities.country = countries.\"Alpha3_code\";"
      ],
      "id": "irrDeJW6naFK"
    },
    {
      "cell_type": "markdown",
      "metadata": {
        "id": "nVfbGpSanaFK"
      },
      "source": [
        "### SQL Full Join\n",
        "\n",
        "The `FULL JOIN` keyword returns all records when there is a match in either left or right table. The result contains 1,296 rows."
      ],
      "id": "nVfbGpSanaFK"
    },
    {
      "cell_type": "code",
      "execution_count": null,
      "metadata": {
        "tags": [
          "hide-output"
        ],
        "id": "bLkVN5WvnaFK"
      },
      "outputs": [],
      "source": [
        "%%sql\n",
        "\n",
        "SELECT * FROM cities FULL JOIN countries ON cities.country = countries.\"Alpha3_code\";"
      ],
      "id": "bLkVN5WvnaFK"
    },
    {
      "cell_type": "markdown",
      "metadata": {
        "id": "xOUGsgCKnaFK"
      },
      "source": [
        "### SQL Union\n",
        "\n",
        "The `UNION` operator is used to combine the result-set of two or more `SELECT` statements."
      ],
      "id": "xOUGsgCKnaFK"
    },
    {
      "cell_type": "code",
      "execution_count": null,
      "metadata": {
        "tags": [
          "hide-output"
        ],
        "id": "75i_Z3lxnaFK"
      },
      "outputs": [],
      "source": [
        "%%sql\n",
        "\n",
        "SELECT country FROM cities\n",
        "UNION\n",
        "SELECT \"Alpha3_code\" FROM countries;"
      ],
      "id": "75i_Z3lxnaFK"
    },
    {
      "cell_type": "markdown",
      "metadata": {
        "id": "wV9dyXFgnaFK"
      },
      "source": [
        "## Aggregation\n",
        "\n",
        "### Group By\n",
        "\n",
        "The `GROUP BY` statement groups rows that have the same values into summary rows, like \"find the number of cities in each country\".\n",
        "\n",
        "The `GROUP BY` statement is often used with aggregate functions (`COUNT`, `MAX`, `MIN`, `SUM`, `AVG`) to group the result-set by one or more columns."
      ],
      "id": "wV9dyXFgnaFK"
    },
    {
      "cell_type": "code",
      "execution_count": null,
      "metadata": {
        "scrolled": true,
        "tags": [
          "hide-output"
        ],
        "id": "PSCIXc0YnaFK"
      },
      "outputs": [],
      "source": [
        "%%sql\n",
        "\n",
        "SELECT COUNT(name), country\n",
        "FROM cities\n",
        "GROUP BY country\n",
        "ORDER BY COUNT(name) DESC;"
      ],
      "id": "PSCIXc0YnaFK"
    },
    {
      "cell_type": "code",
      "execution_count": null,
      "metadata": {
        "tags": [
          "hide-output"
        ],
        "id": "FaeadkArnaFL"
      },
      "outputs": [],
      "source": [
        "%%sql\n",
        "\n",
        "SELECT countries.\"Country\", COUNT(name)\n",
        "FROM cities\n",
        "LEFT JOIN countries ON cities.country = countries.\"Alpha3_code\"\n",
        "GROUP BY countries.\"Country\"\n",
        "ORDER BY COUNT(name) DESC;"
      ],
      "id": "FaeadkArnaFL"
    },
    {
      "cell_type": "markdown",
      "metadata": {
        "id": "jbmadOgYnaFL"
      },
      "source": [
        "### Having\n",
        "\n",
        "The `HAVING` clause was added to SQL because the `WHERE` keyword could not be used with aggregate functions.\n",
        "\n",
        "For example, to select countries with more than 40 cities:"
      ],
      "id": "jbmadOgYnaFL"
    },
    {
      "cell_type": "code",
      "execution_count": null,
      "metadata": {
        "id": "zFkEixvynaFL"
      },
      "outputs": [],
      "source": [
        "%%sql\n",
        "\n",
        "SELECT COUNT(name), country\n",
        "FROM cities\n",
        "GROUP BY country\n",
        "HAVING COUNT(name) > 40\n",
        "ORDER BY COUNT(name) DESC;"
      ],
      "id": "zFkEixvynaFL"
    },
    {
      "cell_type": "code",
      "execution_count": null,
      "metadata": {
        "id": "7SB1xTFQnaFL"
      },
      "outputs": [],
      "source": [
        "%%sql\n",
        "\n",
        "SELECT countries.\"Country\", COUNT(name)\n",
        "FROM cities\n",
        "LEFT JOIN countries ON cities.country = countries.\"Alpha3_code\"\n",
        "GROUP BY countries.\"Country\"\n",
        "HAVING COUNT(name) > 40\n",
        "ORDER BY COUNT(name) DESC;"
      ],
      "id": "7SB1xTFQnaFL"
    },
    {
      "cell_type": "markdown",
      "metadata": {
        "id": "OO5Ni8OenaFL"
      },
      "source": [
        "## Conditional statements\n",
        "\n",
        "The `CASE` statement goes through conditions and returns a value when the first condition is met (like an `IF-THEN-ELSE` statement). So, once a condition is true, it will stop reading and return the result. If no conditions are true, it returns the value in the `ELSE` clause.\n",
        "\n",
        "For example, to divide cities into 3 groups based on their population:"
      ],
      "id": "OO5Ni8OenaFL"
    },
    {
      "cell_type": "code",
      "execution_count": null,
      "metadata": {
        "scrolled": false,
        "tags": [
          "hide-output"
        ],
        "id": "5xFT7MyxnaFM"
      },
      "outputs": [],
      "source": [
        "%%sql\n",
        "\n",
        "SELECT name, population,\n",
        "CASE\n",
        "    WHEN population > 10000000 THEN 'Megacity'\n",
        "    WHEN population > 1000000 THEN 'Large city'\n",
        "    ELSE 'Small city'\n",
        "END AS category\n",
        "FROM cities;"
      ],
      "id": "5xFT7MyxnaFM"
    },
    {
      "cell_type": "markdown",
      "metadata": {
        "id": "zCXHK5GhnaFM"
      },
      "source": [
        "## Saving results\n",
        "\n",
        "You can save the results of a query to a new table using the `CREATE TABLE AS` statement."
      ],
      "id": "zCXHK5GhnaFM"
    },
    {
      "cell_type": "code",
      "execution_count": null,
      "metadata": {
        "id": "vx4z4KonnaFM"
      },
      "outputs": [],
      "source": [
        "%%sql\n",
        "\n",
        "CREATE TABLE cities2 AS SELECT * FROM cities;"
      ],
      "id": "vx4z4KonnaFM"
    },
    {
      "cell_type": "markdown",
      "metadata": {
        "id": "JMtwXK32naFM"
      },
      "source": [
        "Show the new table content."
      ],
      "id": "JMtwXK32naFM"
    },
    {
      "cell_type": "code",
      "execution_count": null,
      "metadata": {
        "id": "6tFKRDrFnaFM"
      },
      "outputs": [],
      "source": [
        "%%sql\n",
        "\n",
        "FROM cities2;"
      ],
      "id": "6tFKRDrFnaFM"
    },
    {
      "cell_type": "markdown",
      "metadata": {
        "id": "SDERpQ30naFM"
      },
      "source": [
        "Use the `DROP TABLE` statement to delete the table."
      ],
      "id": "SDERpQ30naFM"
    },
    {
      "cell_type": "code",
      "execution_count": null,
      "metadata": {
        "id": "gWFZY83hnaFM"
      },
      "outputs": [],
      "source": [
        "%%sql\n",
        "\n",
        "DROP TABLE IF EXISTS cities_usa;\n",
        "CREATE TABLE cities_usa AS (SELECT * FROM cities WHERE country = 'USA');"
      ],
      "id": "gWFZY83hnaFM"
    },
    {
      "cell_type": "code",
      "execution_count": null,
      "metadata": {
        "id": "pN6Fc_ZYnaFN"
      },
      "outputs": [],
      "source": [
        "%%sql\n",
        "\n",
        "FROM cities_usa;"
      ],
      "id": "pN6Fc_ZYnaFN"
    },
    {
      "cell_type": "markdown",
      "metadata": {
        "id": "goHi14DnnaFN"
      },
      "source": [
        "Use the `INSERT INTO` statement to insert rows into a table."
      ],
      "id": "goHi14DnnaFN"
    },
    {
      "cell_type": "code",
      "execution_count": null,
      "metadata": {
        "id": "qS84Sdy_naFN"
      },
      "outputs": [],
      "source": [
        "%%sql\n",
        "\n",
        "INSERT INTO cities_usa (SELECT * FROM cities WHERE country = 'CAN');"
      ],
      "id": "qS84Sdy_naFN"
    },
    {
      "cell_type": "markdown",
      "metadata": {
        "id": "jHE-hQeGnaFN"
      },
      "source": [
        "## SQL Comments\n",
        "\n",
        "Comments are used to explain sections of SQL statements, or to prevent execution of SQL statements.\n",
        "\n",
        "\n",
        "### Single line comMents\n",
        "\n",
        "Single line comments start with --.\n",
        "\n",
        "Any text between -- and the end of the line will be ignored (will not be executed).\n",
        "\n",
        "The following example uses a single-line comment as an explanation:"
      ],
      "id": "jHE-hQeGnaFN"
    },
    {
      "cell_type": "code",
      "execution_count": null,
      "metadata": {
        "id": "wgaDJvutnaFN"
      },
      "outputs": [],
      "source": [
        "%%sql\n",
        "\n",
        "SELECT * FROM cities LIMIT 10 -- This is a comment;"
      ],
      "id": "wgaDJvutnaFN"
    },
    {
      "cell_type": "markdown",
      "metadata": {
        "id": "OVk7wZ7enaFN"
      },
      "source": [
        "### Multi-line comments\n",
        "\n",
        "Multi-line comments start with `/*` and end with `*/`.\n",
        "\n",
        "Any text between `/*` and `*/` will be ignored.\n",
        "\n",
        "The following example uses a multi-line comment as an explanation:"
      ],
      "id": "OVk7wZ7enaFN"
    },
    {
      "cell_type": "code",
      "execution_count": null,
      "metadata": {
        "id": "fEmvpZbEnaFN"
      },
      "outputs": [],
      "source": [
        "%%sql\n",
        "\n",
        "SELECT COUNT(name), country\n",
        "FROM cities\n",
        "/*\n",
        " * Adding Group by\n",
        " * Adding Order by\n",
        " */\n",
        "GROUP BY country\n",
        "ORDER BY COUNT(name) DESC\n",
        "LIMIT 10;"
      ],
      "id": "fEmvpZbEnaFN"
    }
  ],
  "metadata": {
    "celltoolbar": "Tags",
    "hide_input": false,
    "kernelspec": {
      "display_name": "Python 3",
      "language": "python",
      "name": "python3"
    },
    "language_info": {
      "codemirror_mode": {
        "name": "ipython",
        "version": 3
      },
      "file_extension": ".py",
      "mimetype": "text/x-python",
      "name": "python",
      "nbconvert_exporter": "python",
      "pygments_lexer": "ipython3",
      "version": "3.9.18"
    },
    "toc": {
      "base_numbering": 1,
      "nav_menu": {},
      "number_sections": true,
      "sideBar": true,
      "skip_h1_title": false,
      "title_cell": "Table of Contents",
      "title_sidebar": "Contents",
      "toc_cell": false,
      "toc_position": {},
      "toc_section_display": true,
      "toc_window_display": false
    },
    "varInspector": {
      "cols": {
        "lenName": 16,
        "lenType": 16,
        "lenVar": 40
      },
      "kernels_config": {
        "python": {
          "delete_cmd_postfix": "",
          "delete_cmd_prefix": "del ",
          "library": "var_list.py",
          "varRefreshCmd": "print(var_dic_list())"
        },
        "r": {
          "delete_cmd_postfix": ") ",
          "delete_cmd_prefix": "rm(",
          "library": "var_list.r",
          "varRefreshCmd": "cat(var_dic_list()) "
        }
      },
      "types_to_exclude": [
        "module",
        "function",
        "builtin_function_or_method",
        "instance",
        "_Feature"
      ],
      "window_display": false
    },
    "colab": {
      "provenance": []
    }
  },
  "nbformat": 4,
  "nbformat_minor": 5
}